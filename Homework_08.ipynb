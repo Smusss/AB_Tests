{
 "cells": [
  {
   "cell_type": "markdown",
   "id": "40629b55",
   "metadata": {},
   "source": [
    "## На сайте запущен А/В тест с целью увеличить доход.   \n",
    "В приложенном excel файле вы найдете сырые данные по результатам эксперимента – user_id, тип выборки variant_name и доход принесенный пользователем revenue.  \n",
    "### Проанализируйте результаты эксперимента и напишите свои рекомендации менеджеру."
   ]
  },
  {
   "cell_type": "code",
   "execution_count": 114,
   "id": "33ba1d7e",
   "metadata": {},
   "outputs": [],
   "source": [
    "import pandas as pd\n",
    "import scipy.stats as stats\n",
    "import numpy as np\n",
    "import matplotlib.pyplot as plt\n",
    "import seaborn as sns"
   ]
  },
  {
   "cell_type": "markdown",
   "id": "164f4c4b",
   "metadata": {},
   "source": [
    "#### считываем файл:"
   ]
  },
  {
   "cell_type": "code",
   "execution_count": 8,
   "id": "373c6900",
   "metadata": {},
   "outputs": [
    {
     "name": "stderr",
     "output_type": "stream",
     "text": [
      "C:\\Users\\lilly\\AppData\\Local\\Programs\\Python\\Python311\\Lib\\site-packages\\openpyxl\\worksheet\\_reader.py:329: UserWarning: Unknown extension is not supported and will be removed\n",
      "  warn(msg)\n"
     ]
    },
    {
     "data": {
      "text/html": [
       "<div>\n",
       "<style scoped>\n",
       "    .dataframe tbody tr th:only-of-type {\n",
       "        vertical-align: middle;\n",
       "    }\n",
       "\n",
       "    .dataframe tbody tr th {\n",
       "        vertical-align: top;\n",
       "    }\n",
       "\n",
       "    .dataframe thead th {\n",
       "        text-align: right;\n",
       "    }\n",
       "</style>\n",
       "<table border=\"1\" class=\"dataframe\">\n",
       "  <thead>\n",
       "    <tr style=\"text-align: right;\">\n",
       "      <th></th>\n",
       "      <th>USER_ID</th>\n",
       "      <th>VARIANT_NAME</th>\n",
       "      <th>REVENUE</th>\n",
       "    </tr>\n",
       "  </thead>\n",
       "  <tbody>\n",
       "    <tr>\n",
       "      <th>0</th>\n",
       "      <td>737</td>\n",
       "      <td>variant</td>\n",
       "      <td>0.0</td>\n",
       "    </tr>\n",
       "    <tr>\n",
       "      <th>1</th>\n",
       "      <td>2423</td>\n",
       "      <td>control</td>\n",
       "      <td>0.0</td>\n",
       "    </tr>\n",
       "    <tr>\n",
       "      <th>2</th>\n",
       "      <td>9411</td>\n",
       "      <td>control</td>\n",
       "      <td>0.0</td>\n",
       "    </tr>\n",
       "    <tr>\n",
       "      <th>3</th>\n",
       "      <td>7311</td>\n",
       "      <td>control</td>\n",
       "      <td>0.0</td>\n",
       "    </tr>\n",
       "    <tr>\n",
       "      <th>4</th>\n",
       "      <td>6174</td>\n",
       "      <td>variant</td>\n",
       "      <td>0.0</td>\n",
       "    </tr>\n",
       "  </tbody>\n",
       "</table>\n",
       "</div>"
      ],
      "text/plain": [
       "   USER_ID VARIANT_NAME  REVENUE\n",
       "0      737      variant      0.0\n",
       "1     2423      control      0.0\n",
       "2     9411      control      0.0\n",
       "3     7311      control      0.0\n",
       "4     6174      variant      0.0"
      ]
     },
     "execution_count": 8,
     "metadata": {},
     "output_type": "execute_result"
    }
   ],
   "source": [
    "df = pd.read_excel('AB_Test_Results_homework.xlsx')\n",
    "df.head()"
   ]
  },
  {
   "cell_type": "markdown",
   "id": "c80df542",
   "metadata": {},
   "source": [
    "#### анализ и проверка данных:"
   ]
  },
  {
   "cell_type": "code",
   "execution_count": 9,
   "id": "cdc0d34d",
   "metadata": {},
   "outputs": [
    {
     "name": "stdout",
     "output_type": "stream",
     "text": [
      "<class 'pandas.core.frame.DataFrame'>\n",
      "RangeIndex: 10000 entries, 0 to 9999\n",
      "Data columns (total 3 columns):\n",
      " #   Column        Non-Null Count  Dtype  \n",
      "---  ------        --------------  -----  \n",
      " 0   USER_ID       10000 non-null  int64  \n",
      " 1   VARIANT_NAME  10000 non-null  object \n",
      " 2   REVENUE       10000 non-null  float64\n",
      "dtypes: float64(1), int64(1), object(1)\n",
      "memory usage: 234.5+ KB\n"
     ]
    }
   ],
   "source": [
    "df.info()"
   ]
  },
  {
   "cell_type": "markdown",
   "id": "1e676543",
   "metadata": {},
   "source": [
    "файл содержит 10 000 строк  \n",
    "нулевых значений нет  \n",
    "типы данных соответствуют  \n",
    "наименования корректные"
   ]
  },
  {
   "cell_type": "code",
   "execution_count": 10,
   "id": "8d070b88",
   "metadata": {},
   "outputs": [
    {
     "data": {
      "text/html": [
       "<div>\n",
       "<style scoped>\n",
       "    .dataframe tbody tr th:only-of-type {\n",
       "        vertical-align: middle;\n",
       "    }\n",
       "\n",
       "    .dataframe tbody tr th {\n",
       "        vertical-align: top;\n",
       "    }\n",
       "\n",
       "    .dataframe thead th {\n",
       "        text-align: right;\n",
       "    }\n",
       "</style>\n",
       "<table border=\"1\" class=\"dataframe\">\n",
       "  <thead>\n",
       "    <tr style=\"text-align: right;\">\n",
       "      <th></th>\n",
       "      <th>USER_ID</th>\n",
       "      <th>REVENUE</th>\n",
       "    </tr>\n",
       "  </thead>\n",
       "  <tbody>\n",
       "    <tr>\n",
       "      <th>count</th>\n",
       "      <td>10000.000000</td>\n",
       "      <td>10000.000000</td>\n",
       "    </tr>\n",
       "    <tr>\n",
       "      <th>mean</th>\n",
       "      <td>4981.080200</td>\n",
       "      <td>0.099447</td>\n",
       "    </tr>\n",
       "    <tr>\n",
       "      <th>std</th>\n",
       "      <td>2890.590115</td>\n",
       "      <td>2.318529</td>\n",
       "    </tr>\n",
       "    <tr>\n",
       "      <th>min</th>\n",
       "      <td>2.000000</td>\n",
       "      <td>0.000000</td>\n",
       "    </tr>\n",
       "    <tr>\n",
       "      <th>25%</th>\n",
       "      <td>2468.750000</td>\n",
       "      <td>0.000000</td>\n",
       "    </tr>\n",
       "    <tr>\n",
       "      <th>50%</th>\n",
       "      <td>4962.000000</td>\n",
       "      <td>0.000000</td>\n",
       "    </tr>\n",
       "    <tr>\n",
       "      <th>75%</th>\n",
       "      <td>7511.500000</td>\n",
       "      <td>0.000000</td>\n",
       "    </tr>\n",
       "    <tr>\n",
       "      <th>max</th>\n",
       "      <td>10000.000000</td>\n",
       "      <td>196.010000</td>\n",
       "    </tr>\n",
       "  </tbody>\n",
       "</table>\n",
       "</div>"
      ],
      "text/plain": [
       "            USER_ID       REVENUE\n",
       "count  10000.000000  10000.000000\n",
       "mean    4981.080200      0.099447\n",
       "std     2890.590115      2.318529\n",
       "min        2.000000      0.000000\n",
       "25%     2468.750000      0.000000\n",
       "50%     4962.000000      0.000000\n",
       "75%     7511.500000      0.000000\n",
       "max    10000.000000    196.010000"
      ]
     },
     "execution_count": 10,
     "metadata": {},
     "output_type": "execute_result"
    }
   ],
   "source": [
    "df.describe()"
   ]
  },
  {
   "cell_type": "markdown",
   "id": "9ff1b742",
   "metadata": {},
   "source": [
    "### много нулевых значений (нет выручки на покупателя)"
   ]
  },
  {
   "cell_type": "markdown",
   "id": "1787754c",
   "metadata": {},
   "source": [
    "### рассмотрим отдельно тестовую и контрольную группу:"
   ]
  },
  {
   "cell_type": "code",
   "execution_count": 18,
   "id": "33f4f21d",
   "metadata": {},
   "outputs": [
    {
     "data": {
      "text/plain": [
       "VARIANT_NAME\n",
       "variant    5016\n",
       "control    4984\n",
       "Name: count, dtype: int64"
      ]
     },
     "execution_count": 18,
     "metadata": {},
     "output_type": "execute_result"
    }
   ],
   "source": [
    "df.VARIANT_NAME.value_counts()"
   ]
  },
  {
   "cell_type": "code",
   "execution_count": 32,
   "id": "1c43fff8",
   "metadata": {},
   "outputs": [
    {
     "data": {
      "text/plain": [
       "(50.16, 49.84, 0.3199999999999932)"
      ]
     },
     "execution_count": 32,
     "metadata": {},
     "output_type": "execute_result"
    }
   ],
   "source": [
    "v = round(df.query('VARIANT_NAME == \"variant\"').count()[0] / df.VARIANT_NAME.count() * 100, 2)\n",
    "c = round(df.query('VARIANT_NAME == \"control\"').count()[0] / df.VARIANT_NAME.count() * 100, 2)\n",
    "v, c, v - c"
   ]
  },
  {
   "cell_type": "markdown",
   "id": "af08bdfc",
   "metadata": {},
   "source": [
    "соотношение количества элементов 50,16% в тестовой группе (variant) и 49,84% в контрольной группе.  \n",
    "разница между группами 0,32%."
   ]
  },
  {
   "cell_type": "code",
   "execution_count": 16,
   "id": "5a3b2b9a",
   "metadata": {},
   "outputs": [
    {
     "data": {
      "text/html": [
       "<div>\n",
       "<style scoped>\n",
       "    .dataframe tbody tr th:only-of-type {\n",
       "        vertical-align: middle;\n",
       "    }\n",
       "\n",
       "    .dataframe tbody tr th {\n",
       "        vertical-align: top;\n",
       "    }\n",
       "\n",
       "    .dataframe thead th {\n",
       "        text-align: right;\n",
       "    }\n",
       "</style>\n",
       "<table border=\"1\" class=\"dataframe\">\n",
       "  <thead>\n",
       "    <tr style=\"text-align: right;\">\n",
       "      <th></th>\n",
       "      <th>USER_ID</th>\n",
       "      <th>REVENUE</th>\n",
       "    </tr>\n",
       "  </thead>\n",
       "  <tbody>\n",
       "    <tr>\n",
       "      <th>count</th>\n",
       "      <td>5016.000000</td>\n",
       "      <td>5016.000000</td>\n",
       "    </tr>\n",
       "    <tr>\n",
       "      <th>mean</th>\n",
       "      <td>4972.776914</td>\n",
       "      <td>0.070070</td>\n",
       "    </tr>\n",
       "    <tr>\n",
       "      <th>std</th>\n",
       "      <td>2876.320625</td>\n",
       "      <td>1.314802</td>\n",
       "    </tr>\n",
       "    <tr>\n",
       "      <th>min</th>\n",
       "      <td>3.000000</td>\n",
       "      <td>0.000000</td>\n",
       "    </tr>\n",
       "    <tr>\n",
       "      <th>25%</th>\n",
       "      <td>2476.500000</td>\n",
       "      <td>0.000000</td>\n",
       "    </tr>\n",
       "    <tr>\n",
       "      <th>50%</th>\n",
       "      <td>4958.500000</td>\n",
       "      <td>0.000000</td>\n",
       "    </tr>\n",
       "    <tr>\n",
       "      <th>75%</th>\n",
       "      <td>7415.250000</td>\n",
       "      <td>0.000000</td>\n",
       "    </tr>\n",
       "    <tr>\n",
       "      <th>max</th>\n",
       "      <td>10000.000000</td>\n",
       "      <td>58.630000</td>\n",
       "    </tr>\n",
       "  </tbody>\n",
       "</table>\n",
       "</div>"
      ],
      "text/plain": [
       "            USER_ID      REVENUE\n",
       "count   5016.000000  5016.000000\n",
       "mean    4972.776914     0.070070\n",
       "std     2876.320625     1.314802\n",
       "min        3.000000     0.000000\n",
       "25%     2476.500000     0.000000\n",
       "50%     4958.500000     0.000000\n",
       "75%     7415.250000     0.000000\n",
       "max    10000.000000    58.630000"
      ]
     },
     "execution_count": 16,
     "metadata": {},
     "output_type": "execute_result"
    }
   ],
   "source": [
    "df.query('VARIANT_NAME == \"variant\"').describe()"
   ]
  },
  {
   "cell_type": "code",
   "execution_count": 17,
   "id": "3c2afffb",
   "metadata": {},
   "outputs": [
    {
     "data": {
      "text/html": [
       "<div>\n",
       "<style scoped>\n",
       "    .dataframe tbody tr th:only-of-type {\n",
       "        vertical-align: middle;\n",
       "    }\n",
       "\n",
       "    .dataframe tbody tr th {\n",
       "        vertical-align: top;\n",
       "    }\n",
       "\n",
       "    .dataframe thead th {\n",
       "        text-align: right;\n",
       "    }\n",
       "</style>\n",
       "<table border=\"1\" class=\"dataframe\">\n",
       "  <thead>\n",
       "    <tr style=\"text-align: right;\">\n",
       "      <th></th>\n",
       "      <th>USER_ID</th>\n",
       "      <th>REVENUE</th>\n",
       "    </tr>\n",
       "  </thead>\n",
       "  <tbody>\n",
       "    <tr>\n",
       "      <th>count</th>\n",
       "      <td>4984.000000</td>\n",
       "      <td>4984.000000</td>\n",
       "    </tr>\n",
       "    <tr>\n",
       "      <th>mean</th>\n",
       "      <td>4989.436798</td>\n",
       "      <td>0.129013</td>\n",
       "    </tr>\n",
       "    <tr>\n",
       "      <th>std</th>\n",
       "      <td>2905.145109</td>\n",
       "      <td>3.007524</td>\n",
       "    </tr>\n",
       "    <tr>\n",
       "      <th>min</th>\n",
       "      <td>2.000000</td>\n",
       "      <td>0.000000</td>\n",
       "    </tr>\n",
       "    <tr>\n",
       "      <th>25%</th>\n",
       "      <td>2466.000000</td>\n",
       "      <td>0.000000</td>\n",
       "    </tr>\n",
       "    <tr>\n",
       "      <th>50%</th>\n",
       "      <td>4964.500000</td>\n",
       "      <td>0.000000</td>\n",
       "    </tr>\n",
       "    <tr>\n",
       "      <th>75%</th>\n",
       "      <td>7576.250000</td>\n",
       "      <td>0.000000</td>\n",
       "    </tr>\n",
       "    <tr>\n",
       "      <th>max</th>\n",
       "      <td>10000.000000</td>\n",
       "      <td>196.010000</td>\n",
       "    </tr>\n",
       "  </tbody>\n",
       "</table>\n",
       "</div>"
      ],
      "text/plain": [
       "            USER_ID      REVENUE\n",
       "count   4984.000000  4984.000000\n",
       "mean    4989.436798     0.129013\n",
       "std     2905.145109     3.007524\n",
       "min        2.000000     0.000000\n",
       "25%     2466.000000     0.000000\n",
       "50%     4964.500000     0.000000\n",
       "75%     7576.250000     0.000000\n",
       "max    10000.000000   196.010000"
      ]
     },
     "execution_count": 17,
     "metadata": {},
     "output_type": "execute_result"
    }
   ],
   "source": [
    "df.query('VARIANT_NAME == \"control\"').describe()"
   ]
  },
  {
   "cell_type": "markdown",
   "id": "67778fad",
   "metadata": {},
   "source": [
    "#### рапределение на графике:"
   ]
  },
  {
   "cell_type": "code",
   "execution_count": 95,
   "id": "2a414224",
   "metadata": {},
   "outputs": [
    {
     "data": {
      "image/png": "[encoded data removed]",
      "text/plain": [
       "<Figure size 1000x500 with 1 Axes>"
      ]
     },
     "metadata": {},
     "output_type": "display_data"
    }
   ],
   "source": [
    "plt.figure(figsize=(10,5))\n",
    "\n",
    "v = df['REVENUE'][df['VARIANT_NAME'] == 'variant']\n",
    "c = df['REVENUE'][df['VARIANT_NAME'] == 'control']\n",
    "\n",
    "plt.hist(c, color='r', bins=10)\n",
    "plt.hist(v, color='g', bins=10)\n",
    "\n",
    "\n",
    "plt.title('Revenue - groups')\n",
    "plt.xlabel('Revenue')\n",
    "plt.ylabel('Amount')\n",
    "plt.legend(['control', 'variant'])\n",
    "\n",
    "plt.show()"
   ]
  },
  {
   "cell_type": "markdown",
   "id": "53aabb33",
   "metadata": {},
   "source": [
    "### исключаем все строки где выручка на покупателя равна меньше либо равна 0."
   ]
  },
  {
   "cell_type": "code",
   "execution_count": 34,
   "id": "0e8a3448",
   "metadata": {},
   "outputs": [
    {
     "name": "stdout",
     "output_type": "stream",
     "text": [
      "<class 'pandas.core.frame.DataFrame'>\n",
      "Index: 152 entries, 13 to 9977\n",
      "Data columns (total 3 columns):\n",
      " #   Column        Non-Null Count  Dtype  \n",
      "---  ------        --------------  -----  \n",
      " 0   USER_ID       152 non-null    int64  \n",
      " 1   VARIANT_NAME  152 non-null    object \n",
      " 2   REVENUE       152 non-null    float64\n",
      "dtypes: float64(1), int64(1), object(1)\n",
      "memory usage: 4.8+ KB\n"
     ]
    }
   ],
   "source": [
    "df_new = df.query('REVENUE > 0')\n",
    "df_new.info()"
   ]
  },
  {
   "cell_type": "code",
   "execution_count": 36,
   "id": "bc39b1c0",
   "metadata": {},
   "outputs": [
    {
     "data": {
      "text/html": [
       "<div>\n",
       "<style scoped>\n",
       "    .dataframe tbody tr th:only-of-type {\n",
       "        vertical-align: middle;\n",
       "    }\n",
       "\n",
       "    .dataframe tbody tr th {\n",
       "        vertical-align: top;\n",
       "    }\n",
       "\n",
       "    .dataframe thead th {\n",
       "        text-align: right;\n",
       "    }\n",
       "</style>\n",
       "<table border=\"1\" class=\"dataframe\">\n",
       "  <thead>\n",
       "    <tr style=\"text-align: right;\">\n",
       "      <th></th>\n",
       "      <th>USER_ID</th>\n",
       "      <th>REVENUE</th>\n",
       "    </tr>\n",
       "  </thead>\n",
       "  <tbody>\n",
       "    <tr>\n",
       "      <th>count</th>\n",
       "      <td>152.000000</td>\n",
       "      <td>152.000000</td>\n",
       "    </tr>\n",
       "    <tr>\n",
       "      <th>mean</th>\n",
       "      <td>4862.217105</td>\n",
       "      <td>6.542566</td>\n",
       "    </tr>\n",
       "    <tr>\n",
       "      <th>std</th>\n",
       "      <td>2987.566745</td>\n",
       "      <td>17.706752</td>\n",
       "    </tr>\n",
       "    <tr>\n",
       "      <th>min</th>\n",
       "      <td>56.000000</td>\n",
       "      <td>0.020000</td>\n",
       "    </tr>\n",
       "    <tr>\n",
       "      <th>25%</th>\n",
       "      <td>2177.250000</td>\n",
       "      <td>1.250000</td>\n",
       "    </tr>\n",
       "    <tr>\n",
       "      <th>50%</th>\n",
       "      <td>4980.500000</td>\n",
       "      <td>2.420000</td>\n",
       "    </tr>\n",
       "    <tr>\n",
       "      <th>75%</th>\n",
       "      <td>7393.250000</td>\n",
       "      <td>4.607500</td>\n",
       "    </tr>\n",
       "    <tr>\n",
       "      <th>max</th>\n",
       "      <td>9996.000000</td>\n",
       "      <td>196.010000</td>\n",
       "    </tr>\n",
       "  </tbody>\n",
       "</table>\n",
       "</div>"
      ],
      "text/plain": [
       "           USER_ID     REVENUE\n",
       "count   152.000000  152.000000\n",
       "mean   4862.217105    6.542566\n",
       "std    2987.566745   17.706752\n",
       "min      56.000000    0.020000\n",
       "25%    2177.250000    1.250000\n",
       "50%    4980.500000    2.420000\n",
       "75%    7393.250000    4.607500\n",
       "max    9996.000000  196.010000"
      ]
     },
     "execution_count": 36,
     "metadata": {},
     "output_type": "execute_result"
    }
   ],
   "source": [
    "df_new.describe()"
   ]
  },
  {
   "cell_type": "code",
   "execution_count": 46,
   "id": "cd4b5682",
   "metadata": {},
   "outputs": [
    {
     "data": {
      "text/plain": [
       "VARIANT_NAME\n",
       "control    80\n",
       "variant    72\n",
       "Name: count, dtype: int64"
      ]
     },
     "execution_count": 46,
     "metadata": {},
     "output_type": "execute_result"
    }
   ],
   "source": [
    "df_new.VARIANT_NAME.value_counts()"
   ]
  },
  {
   "cell_type": "code",
   "execution_count": 132,
   "id": "e35459d5",
   "metadata": {},
   "outputs": [
    {
     "data": {
      "text/plain": [
       "(47.37, 52.63, -5.260000000000005)"
      ]
     },
     "execution_count": 132,
     "metadata": {},
     "output_type": "execute_result"
    }
   ],
   "source": [
    "v = round(df_new.query('VARIANT_NAME == \"variant\"').count()[0] / df_new.VARIANT_NAME.count() * 100, 2)\n",
    "c = round(df_new.query('VARIANT_NAME == \"control\"').count()[0] / df_new.VARIANT_NAME.count() * 100, 2)\n",
    "v, c, v - c"
   ]
  },
  {
   "cell_type": "markdown",
   "id": "f5a388b8",
   "metadata": {},
   "source": [
    "соотношение количества элементов 47,37% в тестовой группе (variant) и 52,63% в контрольной группе.  \n",
    "разница между группами более 5%."
   ]
  },
  {
   "cell_type": "markdown",
   "id": "dba2bfda",
   "metadata": {},
   "source": [
    "итого в выборке: variant 5016 - control 4984  \n",
    "     с выручкой: variant 72 - control 80  \n",
    "            \n",
    "https://www.evanmiller.org/ab-testing/chi-squared.html - Chi-Squared Test \n",
    "\n",
    "Question: Does the rate of success differ across two groups?  \n",
    "\n",
    "#### Verdict: No significant difference (p = 0.49)\n",
    "Confidence level: 95%  \n",
    "\n",
    "#### Значительных расхождений между группами нет, сплитование корректное, продолжаем анализ (ниже t Тест)"
   ]
  },
  {
   "cell_type": "code",
   "execution_count": 78,
   "id": "a5b1e51e",
   "metadata": {},
   "outputs": [
    {
     "data": {
      "text/html": [
       "<div>\n",
       "<style scoped>\n",
       "    .dataframe tbody tr th:only-of-type {\n",
       "        vertical-align: middle;\n",
       "    }\n",
       "\n",
       "    .dataframe tbody tr th {\n",
       "        vertical-align: top;\n",
       "    }\n",
       "\n",
       "    .dataframe thead th {\n",
       "        text-align: right;\n",
       "    }\n",
       "</style>\n",
       "<table border=\"1\" class=\"dataframe\">\n",
       "  <thead>\n",
       "    <tr style=\"text-align: right;\">\n",
       "      <th></th>\n",
       "      <th>count</th>\n",
       "      <th>mean</th>\n",
       "      <th>std</th>\n",
       "      <th>min</th>\n",
       "      <th>25%</th>\n",
       "      <th>50%</th>\n",
       "      <th>75%</th>\n",
       "      <th>max</th>\n",
       "    </tr>\n",
       "    <tr>\n",
       "      <th>VARIANT_NAME</th>\n",
       "      <th></th>\n",
       "      <th></th>\n",
       "      <th></th>\n",
       "      <th></th>\n",
       "      <th></th>\n",
       "      <th></th>\n",
       "      <th></th>\n",
       "      <th></th>\n",
       "    </tr>\n",
       "  </thead>\n",
       "  <tbody>\n",
       "    <tr>\n",
       "      <th>control</th>\n",
       "      <td>80.0</td>\n",
       "      <td>8.037500</td>\n",
       "      <td>22.498124</td>\n",
       "      <td>0.02</td>\n",
       "      <td>1.515</td>\n",
       "      <td>2.96</td>\n",
       "      <td>6.6575</td>\n",
       "      <td>196.01</td>\n",
       "    </tr>\n",
       "    <tr>\n",
       "      <th>variant</th>\n",
       "      <td>72.0</td>\n",
       "      <td>4.881528</td>\n",
       "      <td>9.913973</td>\n",
       "      <td>0.02</td>\n",
       "      <td>1.245</td>\n",
       "      <td>2.17</td>\n",
       "      <td>3.9725</td>\n",
       "      <td>58.63</td>\n",
       "    </tr>\n",
       "  </tbody>\n",
       "</table>\n",
       "</div>"
      ],
      "text/plain": [
       "              count      mean        std   min    25%   50%     75%     max\n",
       "VARIANT_NAME                                                               \n",
       "control        80.0  8.037500  22.498124  0.02  1.515  2.96  6.6575  196.01\n",
       "variant        72.0  4.881528   9.913973  0.02  1.245  2.17  3.9725   58.63"
      ]
     },
     "execution_count": 78,
     "metadata": {},
     "output_type": "execute_result"
    }
   ],
   "source": [
    "df_new.groupby('VARIANT_NAME')['REVENUE'].describe()"
   ]
  },
  {
   "cell_type": "code",
   "execution_count": 54,
   "id": "e8b3926c",
   "metadata": {},
   "outputs": [
    {
     "data": {
      "text/html": [
       "<div>\n",
       "<style scoped>\n",
       "    .dataframe tbody tr th:only-of-type {\n",
       "        vertical-align: middle;\n",
       "    }\n",
       "\n",
       "    .dataframe tbody tr th {\n",
       "        vertical-align: top;\n",
       "    }\n",
       "\n",
       "    .dataframe thead th {\n",
       "        text-align: right;\n",
       "    }\n",
       "</style>\n",
       "<table border=\"1\" class=\"dataframe\">\n",
       "  <thead>\n",
       "    <tr style=\"text-align: right;\">\n",
       "      <th></th>\n",
       "      <th>USER_ID</th>\n",
       "      <th>REVENUE</th>\n",
       "    </tr>\n",
       "  </thead>\n",
       "  <tbody>\n",
       "    <tr>\n",
       "      <th>count</th>\n",
       "      <td>72.000000</td>\n",
       "      <td>72.000000</td>\n",
       "    </tr>\n",
       "    <tr>\n",
       "      <th>mean</th>\n",
       "      <td>5306.958333</td>\n",
       "      <td>4.881528</td>\n",
       "    </tr>\n",
       "    <tr>\n",
       "      <th>std</th>\n",
       "      <td>3116.544256</td>\n",
       "      <td>9.913973</td>\n",
       "    </tr>\n",
       "    <tr>\n",
       "      <th>min</th>\n",
       "      <td>56.000000</td>\n",
       "      <td>0.020000</td>\n",
       "    </tr>\n",
       "    <tr>\n",
       "      <th>25%</th>\n",
       "      <td>2707.500000</td>\n",
       "      <td>1.245000</td>\n",
       "    </tr>\n",
       "    <tr>\n",
       "      <th>50%</th>\n",
       "      <td>5721.000000</td>\n",
       "      <td>2.170000</td>\n",
       "    </tr>\n",
       "    <tr>\n",
       "      <th>75%</th>\n",
       "      <td>7963.750000</td>\n",
       "      <td>3.972500</td>\n",
       "    </tr>\n",
       "    <tr>\n",
       "      <th>max</th>\n",
       "      <td>9996.000000</td>\n",
       "      <td>58.630000</td>\n",
       "    </tr>\n",
       "  </tbody>\n",
       "</table>\n",
       "</div>"
      ],
      "text/plain": [
       "           USER_ID    REVENUE\n",
       "count    72.000000  72.000000\n",
       "mean   5306.958333   4.881528\n",
       "std    3116.544256   9.913973\n",
       "min      56.000000   0.020000\n",
       "25%    2707.500000   1.245000\n",
       "50%    5721.000000   2.170000\n",
       "75%    7963.750000   3.972500\n",
       "max    9996.000000  58.630000"
      ]
     },
     "execution_count": 54,
     "metadata": {},
     "output_type": "execute_result"
    }
   ],
   "source": [
    "df_new.query('VARIANT_NAME == \"variant\"').describe()"
   ]
  },
  {
   "cell_type": "code",
   "execution_count": 50,
   "id": "e5e26331",
   "metadata": {},
   "outputs": [
    {
     "data": {
      "text/html": [
       "<div>\n",
       "<style scoped>\n",
       "    .dataframe tbody tr th:only-of-type {\n",
       "        vertical-align: middle;\n",
       "    }\n",
       "\n",
       "    .dataframe tbody tr th {\n",
       "        vertical-align: top;\n",
       "    }\n",
       "\n",
       "    .dataframe thead th {\n",
       "        text-align: right;\n",
       "    }\n",
       "</style>\n",
       "<table border=\"1\" class=\"dataframe\">\n",
       "  <thead>\n",
       "    <tr style=\"text-align: right;\">\n",
       "      <th></th>\n",
       "      <th>USER_ID</th>\n",
       "      <th>REVENUE</th>\n",
       "    </tr>\n",
       "  </thead>\n",
       "  <tbody>\n",
       "    <tr>\n",
       "      <th>count</th>\n",
       "      <td>80.000000</td>\n",
       "      <td>80.000000</td>\n",
       "    </tr>\n",
       "    <tr>\n",
       "      <th>mean</th>\n",
       "      <td>4461.950000</td>\n",
       "      <td>8.037500</td>\n",
       "    </tr>\n",
       "    <tr>\n",
       "      <th>std</th>\n",
       "      <td>2826.386242</td>\n",
       "      <td>22.498124</td>\n",
       "    </tr>\n",
       "    <tr>\n",
       "      <th>min</th>\n",
       "      <td>124.000000</td>\n",
       "      <td>0.020000</td>\n",
       "    </tr>\n",
       "    <tr>\n",
       "      <th>25%</th>\n",
       "      <td>2037.500000</td>\n",
       "      <td>1.515000</td>\n",
       "    </tr>\n",
       "    <tr>\n",
       "      <th>50%</th>\n",
       "      <td>4327.000000</td>\n",
       "      <td>2.960000</td>\n",
       "    </tr>\n",
       "    <tr>\n",
       "      <th>75%</th>\n",
       "      <td>6636.750000</td>\n",
       "      <td>6.657500</td>\n",
       "    </tr>\n",
       "    <tr>\n",
       "      <th>max</th>\n",
       "      <td>9766.000000</td>\n",
       "      <td>196.010000</td>\n",
       "    </tr>\n",
       "  </tbody>\n",
       "</table>\n",
       "</div>"
      ],
      "text/plain": [
       "           USER_ID     REVENUE\n",
       "count    80.000000   80.000000\n",
       "mean   4461.950000    8.037500\n",
       "std    2826.386242   22.498124\n",
       "min     124.000000    0.020000\n",
       "25%    2037.500000    1.515000\n",
       "50%    4327.000000    2.960000\n",
       "75%    6636.750000    6.657500\n",
       "max    9766.000000  196.010000"
      ]
     },
     "execution_count": 50,
     "metadata": {},
     "output_type": "execute_result"
    }
   ],
   "source": [
    "df_new.query('VARIANT_NAME == \"control\"').describe()"
   ]
  },
  {
   "cell_type": "code",
   "execution_count": 133,
   "id": "ec212fd6",
   "metadata": {
    "scrolled": true
   },
   "outputs": [
    {
     "data": {
      "image/png": "[encoded data removed]",
      "text/plain": [
       "<Figure size 1000x300 with 1 Axes>"
      ]
     },
     "metadata": {},
     "output_type": "display_data"
    }
   ],
   "source": [
    "plt.figure(figsize=(10,3))\n",
    "\n",
    "variant = df_new['REVENUE'][df_new['VARIANT_NAME'] == 'variant']\n",
    "control = df_new['REVENUE'][df_new['VARIANT_NAME'] == 'control']\n",
    "\n",
    "plt.hist(control, color='r', bins=30)\n",
    "plt.hist(variant, color='g', bins=30)\n",
    "plt.title('Revenue - groups')\n",
    "plt.xlabel('Revenue')\n",
    "plt.ylabel('Amount')\n",
    "plt.legend(['control', 'variant'])\n",
    "\n",
    "plt.show()"
   ]
  },
  {
   "cell_type": "code",
   "execution_count": 130,
   "id": "6786c839",
   "metadata": {},
   "outputs": [
    {
     "data": {
      "image/png": "[encoded data removed]",
      "text/plain": [
       "<Figure size 1000x300 with 1 Axes>"
      ]
     },
     "metadata": {},
     "output_type": "display_data"
    }
   ],
   "source": [
    "plt.figure(figsize=(10,3))\n",
    "sns.boxplot(x = df_new['REVENUE'], y = df_new['VARIANT_NAME'], whis=3)\n",
    "plt. title('Revenue - groups')\n",
    "plt.xlabel('Revenue')\n",
    "plt.ylabel('Group');"
   ]
  },
  {
   "cell_type": "markdown",
   "id": "6c4fcab7",
   "metadata": {},
   "source": [
    "t тест:"
   ]
  },
  {
   "cell_type": "code",
   "execution_count": 209,
   "id": "6021be6c",
   "metadata": {},
   "outputs": [
    {
     "data": {
      "text/plain": [
       "Ttest_indResult(statistic=-1.1379124979933528, pvalue=0.25760685398932337)"
      ]
     },
     "execution_count": 209,
     "metadata": {},
     "output_type": "execute_result"
    }
   ],
   "source": [
    "stats.ttest_ind(variant, control, equal_var = False)"
   ]
  },
  {
   "cell_type": "markdown",
   "id": "84ea5091",
   "metadata": {},
   "source": [
    "Verdict: No significant difference (p = 0.26)"
   ]
  },
  {
   "cell_type": "markdown",
   "id": "2b073612",
   "metadata": {},
   "source": [
    "Тип данных - количественные (выручка)  \n",
    "Распределение - не нормальное  \n",
    "Выборки независимые\n",
    "Количество групп - 2\n",
    "\n",
    "#### => критерий Манна-Уитни"
   ]
  },
  {
   "cell_type": "markdown",
   "id": "d218411f",
   "metadata": {},
   "source": [
    "- для выборки в целом:"
   ]
  },
  {
   "cell_type": "code",
   "execution_count": 207,
   "id": "3239f319",
   "metadata": {},
   "outputs": [
    {
     "data": {
      "text/plain": [
       "MannwhitneyuResult(statistic=12478180.0, pvalue=0.47825247965294926)"
      ]
     },
     "execution_count": 207,
     "metadata": {},
     "output_type": "execute_result"
    }
   ],
   "source": [
    "mw = stats.mannwhitneyu(x=df[df['VARIANT_NAME'] == 'variant']['REVENUE'].values, \n",
    "                              y=df[df['VARIANT_NAME'] == 'control']['REVENUE'].values)\n",
    "mw"
   ]
  },
  {
   "cell_type": "markdown",
   "id": "67b98ccd",
   "metadata": {},
   "source": [
    "- для выборки без нулевых значений выручки:"
   ]
  },
  {
   "cell_type": "code",
   "execution_count": 206,
   "id": "bcf4b4db",
   "metadata": {},
   "outputs": [
    {
     "data": {
      "text/plain": [
       "MannwhitneyuResult(statistic=2404.0, pvalue=0.07924299810603061)"
      ]
     },
     "execution_count": 206,
     "metadata": {},
     "output_type": "execute_result"
    }
   ],
   "source": [
    "mw = stats.mannwhitneyu(x=df_new[df_new['VARIANT_NAME'] == 'variant']['REVENUE'].values, \n",
    "                              y=df_new[df_new['VARIANT_NAME'] == 'control']['REVENUE'].values)\n",
    "mw"
   ]
  },
  {
   "cell_type": "markdown",
   "id": "04444640",
   "metadata": {},
   "source": [
    "При первичном рассмотрении статистически значимых разниц между двумя группами нет (уровень статистической значимости 5%).  \n",
    "Значения pValue по вариантам фильтрации выборок:  \n",
    "- 0.48 для выборки в целом;\n",
    "- 0.08 для выборки без нулевых значений  \n",
    "  оба > уровня значимости"
   ]
  },
  {
   "cell_type": "markdown",
   "id": "4e1b69a1",
   "metadata": {},
   "source": [
    "### В выборках присутствуют выбросы. Проанализируем выборки исключая выбросы."
   ]
  },
  {
   "cell_type": "code",
   "execution_count": 184,
   "id": "2ff7e78b",
   "metadata": {},
   "outputs": [],
   "source": [
    "group_v = df_new.query('VARIANT_NAME == \"variant\"')\n",
    "group_c = df_new.query('VARIANT_NAME == \"control\"')"
   ]
  },
  {
   "cell_type": "code",
   "execution_count": 150,
   "id": "a026b1c6",
   "metadata": {},
   "outputs": [],
   "source": [
    "def q1 (x):\n",
    "    return x.quantile(0.25)\n",
    "\n",
    "def q3 (x):\n",
    "    return x.quantile(0.75)"
   ]
  },
  {
   "cell_type": "markdown",
   "id": "cdfbdfed",
   "metadata": {},
   "source": [
    "рассчитаем квартили Q1, Q3 и интерквартильное расстояние:"
   ]
  },
  {
   "cell_type": "code",
   "execution_count": 156,
   "id": "c175442f",
   "metadata": {},
   "outputs": [
    {
     "data": {
      "text/plain": [
       "(1.245, 3.9725, 2.7275)"
      ]
     },
     "execution_count": 156,
     "metadata": {},
     "output_type": "execute_result"
    }
   ],
   "source": [
    "q1_v = group_v['REVENUE'].agg(q1)\n",
    "q3_v = group_v['REVENUE'].agg(q3)\n",
    "iqr_v = q3_v - q1_v\n",
    "q1_v,q3_v, iqr_v"
   ]
  },
  {
   "cell_type": "code",
   "execution_count": 157,
   "id": "d11da280",
   "metadata": {},
   "outputs": [
    {
     "data": {
      "text/plain": [
       "(1.5150000000000001, 6.6575, 5.1425)"
      ]
     },
     "execution_count": 157,
     "metadata": {},
     "output_type": "execute_result"
    }
   ],
   "source": [
    "q1_c = group_c['REVENUE'].agg(q1)\n",
    "q3_c = group_c['REVENUE'].agg(q3)\n",
    "iqr_c = q3_c - q1_c\n",
    "q1_c,q3_c, iqr_c"
   ]
  },
  {
   "cell_type": "markdown",
   "id": "5121d633",
   "metadata": {},
   "source": [
    "рассчитаем два варианта выбросов:  \n",
    "- (внутренние границы = незначительные выбросы, коэффициент 1,5 (minor));\n",
    "- (внешние границы = значительные выбросы, коэффициент 3 (major))."
   ]
  },
  {
   "cell_type": "code",
   "execution_count": 200,
   "id": "4c774783",
   "metadata": {},
   "outputs": [
    {
     "data": {
      "text/plain": [
       "([-2.8462500000000004, 8.06375],\n",
       " [-6.937500000000001, 12.155000000000001],\n",
       " [-6.19875, 14.37125],\n",
       " [-13.9125, 22.085])"
      ]
     },
     "execution_count": 200,
     "metadata": {},
     "output_type": "execute_result"
    }
   ],
   "source": [
    "minor_outlier_v = [q1_v - 1.5 * iqr_v, q3_v + 1.5 * iqr_v]\n",
    "major_outlier_v = [q1_v - 3 * iqr_v, q3_v + 3 * iqr_v]\n",
    "\n",
    "minor_outlier_c = [q1_c - 1.5 * iqr_c, q3_c + 1.5 * iqr_c]\n",
    "major_outlier_c = [q1_c - 3 * iqr_c, q3_c + 3 * iqr_c]\n",
    "\n",
    "minor_outlier_v, major_outlier_v, minor_outlier_c, major_outlier_c"
   ]
  },
  {
   "cell_type": "markdown",
   "id": "464934cd",
   "metadata": {},
   "source": [
    "фильтруем группы исходя из полученных границ:  \n",
    "- minor - данные за исключением значительных и незначительных выбросов\n",
    "- major - данные за исключением только значительных выбросов."
   ]
  },
  {
   "cell_type": "code",
   "execution_count": 191,
   "id": "f8360d78",
   "metadata": {},
   "outputs": [],
   "source": [
    "group_v_minor = group_v[(group_v['REVENUE'] >= minor_outlier_v[0]) & (group_v['REVENUE'] <= minor_outlier_v[1])]\n",
    "group_v_major = group_v[(group_v['REVENUE'] >= major_outlier_v[0]) & (group_v['REVENUE'] <= major_outlier_v[1])]\n",
    "\n",
    "\n",
    "group_c_minor = group_c[(group_c['REVENUE'] >= minor_outlier_c[0]) & (group_c['REVENUE'] <= minor_outlier_c[1])]\n",
    "group_c_major = group_c[(group_c['REVENUE'] >= major_outlier_c[0]) & (group_c['REVENUE'] <= major_outlier_c[1])]"
   ]
  },
  {
   "cell_type": "markdown",
   "id": "df1219ea",
   "metadata": {},
   "source": [
    "### Minor (незначительные)"
   ]
  },
  {
   "cell_type": "code",
   "execution_count": 195,
   "id": "aa929d08",
   "metadata": {},
   "outputs": [
    {
     "data": {
      "image/png": "[encoded data removed]",
      "text/plain": [
       "<Figure size 1000x300 with 1 Axes>"
      ]
     },
     "metadata": {},
     "output_type": "display_data"
    }
   ],
   "source": [
    "plt.figure(figsize=(10,3))\n",
    "\n",
    "plt.hist(group_c_minor['REVENUE'], color='r', bins=30)\n",
    "plt.hist(group_v_minor['REVENUE'], color='g', bins=30)\n",
    "plt.title('Revenue - groups (without minor outliers)')\n",
    "plt.xlabel('Revenue')\n",
    "plt.ylabel('Amount')\n",
    "plt.legend(['control', 'variant'])\n",
    "\n",
    "plt.show()"
   ]
  },
  {
   "cell_type": "code",
   "execution_count": 210,
   "id": "e4dc55e3",
   "metadata": {},
   "outputs": [
    {
     "data": {
      "text/plain": [
       "MannwhitneyuResult(statistic=1829.0, pvalue=0.0510977588359722)"
      ]
     },
     "execution_count": 210,
     "metadata": {},
     "output_type": "execute_result"
    }
   ],
   "source": [
    "mw = stats.mannwhitneyu(x=group_v_minor['REVENUE'].values, \n",
    "                              y=group_c_minor['REVENUE'].values)\n",
    "mw"
   ]
  },
  {
   "cell_type": "markdown",
   "id": "85969cac",
   "metadata": {},
   "source": [
    "#### Значение pValue = 0.05, что практически равно уровню статистической значисмости.  "
   ]
  },
  {
   "cell_type": "code",
   "execution_count": 217,
   "id": "a5edebcf",
   "metadata": {},
   "outputs": [
    {
     "data": {
      "text/plain": [
       "Ttest_indResult(statistic=-2.8825740351225826, pvalue=0.00481185645846028)"
      ]
     },
     "execution_count": 217,
     "metadata": {},
     "output_type": "execute_result"
    }
   ],
   "source": [
    "#stats.ttest_ind(group_v_minor['REVENUE'].values, group_c_minor['REVENUE'].values, equal_var = False)"
   ]
  },
  {
   "cell_type": "markdown",
   "id": "0e7c7f16",
   "metadata": {},
   "source": [
    "### Major (значительные)"
   ]
  },
  {
   "cell_type": "code",
   "execution_count": 196,
   "id": "1ff8e110",
   "metadata": {},
   "outputs": [
    {
     "data": {
      "image/png": "[encoded data removed]",
      "text/plain": [
       "<Figure size 1000x300 with 1 Axes>"
      ]
     },
     "metadata": {},
     "output_type": "display_data"
    }
   ],
   "source": [
    "plt.figure(figsize=(10,3))\n",
    "\n",
    "plt.hist(group_c_major['REVENUE'], color='r', bins=30)\n",
    "plt.hist(group_v_major['REVENUE'], color='g', bins=30)\n",
    "plt.title('Revenue - groups (without major outliers)')\n",
    "plt.xlabel('Revenue')\n",
    "plt.ylabel('Amount')\n",
    "plt.legend(['control', 'variant'])\n",
    "\n",
    "plt.show()"
   ]
  },
  {
   "cell_type": "code",
   "execution_count": 211,
   "id": "aa3261db",
   "metadata": {},
   "outputs": [
    {
     "data": {
      "text/plain": [
       "MannwhitneyuResult(statistic=1959.0, pvalue=0.02481907324268117)"
      ]
     },
     "execution_count": 211,
     "metadata": {},
     "output_type": "execute_result"
    }
   ],
   "source": [
    "mw = stats.mannwhitneyu(x=group_v_major['REVENUE'].values, \n",
    "                              y=group_c_major['REVENUE'].values)\n",
    "mw"
   ]
  },
  {
   "cell_type": "code",
   "execution_count": 218,
   "id": "532a5deb",
   "metadata": {},
   "outputs": [
    {
     "data": {
      "text/plain": [
       "Ttest_indResult(statistic=-3.314510398602977, pvalue=0.0012653908571572177)"
      ]
     },
     "execution_count": 218,
     "metadata": {},
     "output_type": "execute_result"
    }
   ],
   "source": [
    "#stats.ttest_ind(group_v_major['REVENUE'].values, group_c_major['REVENUE'].values, equal_var = False)"
   ]
  },
  {
   "cell_type": "markdown",
   "id": "bb3472bf",
   "metadata": {},
   "source": [
    "#### Значение pValue = 0.02 - выборки, при условии исключения значительных выбросов отличаются   \n",
    "#### (при уровне статистической значимости 5%)"
   ]
  },
  {
   "cell_type": "code",
   "execution_count": 216,
   "id": "fac3507b",
   "metadata": {},
   "outputs": [
    {
     "data": {
      "text/plain": [
       "[2.528636363636363, 4.607368421052632]"
      ]
     },
     "execution_count": 216,
     "metadata": {},
     "output_type": "execute_result"
    }
   ],
   "source": [
    "means = [group_v_major['REVENUE'].mean(), group_c_major['REVENUE'].mean()]\n",
    "means"
   ]
  },
  {
   "cell_type": "code",
   "execution_count": 219,
   "id": "c485d848",
   "metadata": {},
   "outputs": [
    {
     "data": {
      "text/plain": [
       "[2.0959395810167636, 4.983432382985593]"
      ]
     },
     "execution_count": 219,
     "metadata": {},
     "output_type": "execute_result"
    }
   ],
   "source": [
    "stds = [group_v_major['REVENUE'].std(), group_c_major['REVENUE'].std()]\n",
    "stds"
   ]
  },
  {
   "cell_type": "code",
   "execution_count": 222,
   "id": "4feeacbc",
   "metadata": {},
   "outputs": [
    {
     "data": {
      "text/plain": [
       "[66, 76]"
      ]
     },
     "execution_count": 222,
     "metadata": {},
     "output_type": "execute_result"
    }
   ],
   "source": [
    "counts = [group_v_major['REVENUE'].count(), group_c_major['REVENUE'].count()]\n",
    "counts"
   ]
  },
  {
   "cell_type": "markdown",
   "id": "1ba13fae",
   "metadata": {},
   "source": [
    "### ВЫВОДЫ:"
   ]
  },
  {
   "cell_type": "markdown",
   "id": "2efadd3a",
   "metadata": {},
   "source": [
    "изменения не выкатывать так как показатели контрольной группы лучше чем тестовой.  \n",
    "Для принятия решения использованы расчеты по выборкам без значительных выбросов.  \n",
    "\n",
    "Расчеты по выборкам итого показали что группы аналогичны и сплитованы верно.  \n",
    "Группы без учета покупателей, выручка по которым = 0, также сопоставимы.  \n",
    "\n",
    "Расчеты показали наличие выбросов, как значительных, так и нет.  \n",
    "Для очистки выборок от незначительных выбросов нужны основания/комментарии по данным.  \n",
    "Поэтому расчет произведен именно по выборкам без значительных выбросов."
   ]
  },
  {
   "cell_type": "code",
   "execution_count": null,
   "id": "609d2171",
   "metadata": {},
   "outputs": [],
   "source": []
  }
 ],
 "metadata": {
  "kernelspec": {
   "display_name": "Python 3 (ipykernel)",
   "language": "python",
   "name": "python3"
  },
  "language_info": {
   "codemirror_mode": {
    "name": "ipython",
    "version": 3
   },
   "file_extension": ".py",
   "mimetype": "text/x-python",
   "name": "python",
   "nbconvert_exporter": "python",
   "pygments_lexer": "ipython3",
   "version": "3.11.2"
  }
 },
 "nbformat": 4,
 "nbformat_minor": 5
}
