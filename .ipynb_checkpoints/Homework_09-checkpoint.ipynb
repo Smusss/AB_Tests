{
 "cells": [
  {
   "cell_type": "markdown",
   "id": "19221f6a",
   "metadata": {},
   "source": [
    "Проанализируйте результаты эксперимента и напишите свои рекомендации менеджеру.\n",
    "\n",
    "\n",
    "Mobile Games AB Testing with Cookie Cats"
   ]
  },
  {
   "cell_type": "code",
   "execution_count": 2,
   "id": "9c85e40c",
   "metadata": {},
   "outputs": [],
   "source": [
    "import pandas as pd\n",
    "import matplotlib.pyplot as plt\n",
    "import scipy.stats as stats\n",
    "import seaborn as sns"
   ]
  },
  {
   "cell_type": "code",
   "execution_count": 4,
   "id": "aa24fae0",
   "metadata": {},
   "outputs": [
    {
     "data": {
      "text/html": [
       "<div>\n",
       "<style scoped>\n",
       "    .dataframe tbody tr th:only-of-type {\n",
       "        vertical-align: middle;\n",
       "    }\n",
       "\n",
       "    .dataframe tbody tr th {\n",
       "        vertical-align: top;\n",
       "    }\n",
       "\n",
       "    .dataframe thead th {\n",
       "        text-align: right;\n",
       "    }\n",
       "</style>\n",
       "<table border=\"1\" class=\"dataframe\">\n",
       "  <thead>\n",
       "    <tr style=\"text-align: right;\">\n",
       "      <th></th>\n",
       "      <th>userid</th>\n",
       "      <th>version</th>\n",
       "      <th>sum_gamerounds</th>\n",
       "      <th>retention_1</th>\n",
       "      <th>retention_7</th>\n",
       "    </tr>\n",
       "  </thead>\n",
       "  <tbody>\n",
       "    <tr>\n",
       "      <th>0</th>\n",
       "      <td>116</td>\n",
       "      <td>gate_30</td>\n",
       "      <td>3</td>\n",
       "      <td>0</td>\n",
       "      <td>0</td>\n",
       "    </tr>\n",
       "    <tr>\n",
       "      <th>1</th>\n",
       "      <td>337</td>\n",
       "      <td>gate_30</td>\n",
       "      <td>38</td>\n",
       "      <td>1</td>\n",
       "      <td>0</td>\n",
       "    </tr>\n",
       "    <tr>\n",
       "      <th>2</th>\n",
       "      <td>377</td>\n",
       "      <td>gate_40</td>\n",
       "      <td>165</td>\n",
       "      <td>1</td>\n",
       "      <td>0</td>\n",
       "    </tr>\n",
       "    <tr>\n",
       "      <th>3</th>\n",
       "      <td>483</td>\n",
       "      <td>gate_40</td>\n",
       "      <td>1</td>\n",
       "      <td>0</td>\n",
       "      <td>0</td>\n",
       "    </tr>\n",
       "    <tr>\n",
       "      <th>4</th>\n",
       "      <td>488</td>\n",
       "      <td>gate_40</td>\n",
       "      <td>179</td>\n",
       "      <td>1</td>\n",
       "      <td>1</td>\n",
       "    </tr>\n",
       "  </tbody>\n",
       "</table>\n",
       "</div>"
      ],
      "text/plain": [
       "   userid  version  sum_gamerounds  retention_1  retention_7\n",
       "0     116  gate_30               3            0            0\n",
       "1     337  gate_30              38            1            0\n",
       "2     377  gate_40             165            1            0\n",
       "3     483  gate_40               1            0            0\n",
       "4     488  gate_40             179            1            1"
      ]
     },
     "execution_count": 4,
     "metadata": {},
     "output_type": "execute_result"
    }
   ],
   "source": [
    "start_data = pd.read_csv('results_А_B_cookie_cats_2.csv')\n",
    "start_data.head()"
   ]
  },
  {
   "cell_type": "markdown",
   "id": "2ef15877",
   "metadata": {},
   "source": [
    "База с результатами теста при увеличении лимита игры без сохранения / checkpoint (gate 30  или 40).  \n",
    "sum_gamerounds - сумма отыгранных игроком раундов.  \n",
    "retention - возврат в игру (через 1 день и через 7 дней).  \n",
    "\n",
    "### Оценить возврат клиентов в игру."
   ]
  },
  {
   "cell_type": "code",
   "execution_count": 115,
   "id": "ebcd750b",
   "metadata": {},
   "outputs": [
    {
     "name": "stdout",
     "output_type": "stream",
     "text": [
      "<class 'pandas.core.frame.DataFrame'>\n",
      "RangeIndex: 90189 entries, 0 to 90188\n",
      "Data columns (total 5 columns):\n",
      " #   Column          Non-Null Count  Dtype \n",
      "---  ------          --------------  ----- \n",
      " 0   userid          90189 non-null  int64 \n",
      " 1   version         90189 non-null  object\n",
      " 2   sum_gamerounds  90189 non-null  int64 \n",
      " 3   retention_1     90189 non-null  int64 \n",
      " 4   retention_7     90189 non-null  int64 \n",
      "dtypes: int64(4), object(1)\n",
      "memory usage: 3.4+ MB\n"
     ]
    }
   ],
   "source": [
    "start_data.info()"
   ]
  },
  {
   "cell_type": "code",
   "execution_count": 116,
   "id": "f9aaccb1",
   "metadata": {},
   "outputs": [
    {
     "data": {
      "text/html": [
       "<div>\n",
       "<style scoped>\n",
       "    .dataframe tbody tr th:only-of-type {\n",
       "        vertical-align: middle;\n",
       "    }\n",
       "\n",
       "    .dataframe tbody tr th {\n",
       "        vertical-align: top;\n",
       "    }\n",
       "\n",
       "    .dataframe thead th {\n",
       "        text-align: right;\n",
       "    }\n",
       "</style>\n",
       "<table border=\"1\" class=\"dataframe\">\n",
       "  <thead>\n",
       "    <tr style=\"text-align: right;\">\n",
       "      <th></th>\n",
       "      <th>userid</th>\n",
       "      <th>sum_gamerounds</th>\n",
       "      <th>retention_1</th>\n",
       "      <th>retention_7</th>\n",
       "    </tr>\n",
       "  </thead>\n",
       "  <tbody>\n",
       "    <tr>\n",
       "      <th>count</th>\n",
       "      <td>9.018900e+04</td>\n",
       "      <td>90189.000000</td>\n",
       "      <td>90189.000000</td>\n",
       "      <td>90189.000000</td>\n",
       "    </tr>\n",
       "    <tr>\n",
       "      <th>mean</th>\n",
       "      <td>4.998412e+06</td>\n",
       "      <td>51.872457</td>\n",
       "      <td>0.445210</td>\n",
       "      <td>0.186065</td>\n",
       "    </tr>\n",
       "    <tr>\n",
       "      <th>std</th>\n",
       "      <td>2.883286e+06</td>\n",
       "      <td>195.050858</td>\n",
       "      <td>0.496992</td>\n",
       "      <td>0.389161</td>\n",
       "    </tr>\n",
       "    <tr>\n",
       "      <th>min</th>\n",
       "      <td>1.160000e+02</td>\n",
       "      <td>0.000000</td>\n",
       "      <td>0.000000</td>\n",
       "      <td>0.000000</td>\n",
       "    </tr>\n",
       "    <tr>\n",
       "      <th>25%</th>\n",
       "      <td>2.512230e+06</td>\n",
       "      <td>5.000000</td>\n",
       "      <td>0.000000</td>\n",
       "      <td>0.000000</td>\n",
       "    </tr>\n",
       "    <tr>\n",
       "      <th>50%</th>\n",
       "      <td>4.995815e+06</td>\n",
       "      <td>16.000000</td>\n",
       "      <td>0.000000</td>\n",
       "      <td>0.000000</td>\n",
       "    </tr>\n",
       "    <tr>\n",
       "      <th>75%</th>\n",
       "      <td>7.496452e+06</td>\n",
       "      <td>51.000000</td>\n",
       "      <td>1.000000</td>\n",
       "      <td>0.000000</td>\n",
       "    </tr>\n",
       "    <tr>\n",
       "      <th>max</th>\n",
       "      <td>9.999861e+06</td>\n",
       "      <td>49854.000000</td>\n",
       "      <td>1.000000</td>\n",
       "      <td>1.000000</td>\n",
       "    </tr>\n",
       "  </tbody>\n",
       "</table>\n",
       "</div>"
      ],
      "text/plain": [
       "             userid  sum_gamerounds   retention_1   retention_7\n",
       "count  9.018900e+04    90189.000000  90189.000000  90189.000000\n",
       "mean   4.998412e+06       51.872457      0.445210      0.186065\n",
       "std    2.883286e+06      195.050858      0.496992      0.389161\n",
       "min    1.160000e+02        0.000000      0.000000      0.000000\n",
       "25%    2.512230e+06        5.000000      0.000000      0.000000\n",
       "50%    4.995815e+06       16.000000      0.000000      0.000000\n",
       "75%    7.496452e+06       51.000000      1.000000      0.000000\n",
       "max    9.999861e+06    49854.000000      1.000000      1.000000"
      ]
     },
     "execution_count": 116,
     "metadata": {},
     "output_type": "execute_result"
    }
   ],
   "source": [
    "start_data.describe()"
   ]
  },
  {
   "cell_type": "code",
   "execution_count": 117,
   "id": "edbdfe7e",
   "metadata": {},
   "outputs": [
    {
     "data": {
      "text/plain": [
       "userid            0\n",
       "version           0\n",
       "sum_gamerounds    0\n",
       "retention_1       0\n",
       "retention_7       0\n",
       "dtype: int64"
      ]
     },
     "execution_count": 117,
     "metadata": {},
     "output_type": "execute_result"
    }
   ],
   "source": [
    "start_data.isna().sum()\n",
    "#проверка пустых значений"
   ]
  },
  {
   "cell_type": "code",
   "execution_count": 118,
   "id": "e96da24d",
   "metadata": {},
   "outputs": [
    {
     "data": {
      "text/html": [
       "<div>\n",
       "<style scoped>\n",
       "    .dataframe tbody tr th:only-of-type {\n",
       "        vertical-align: middle;\n",
       "    }\n",
       "\n",
       "    .dataframe tbody tr th {\n",
       "        vertical-align: top;\n",
       "    }\n",
       "\n",
       "    .dataframe thead th {\n",
       "        text-align: right;\n",
       "    }\n",
       "</style>\n",
       "<table border=\"1\" class=\"dataframe\">\n",
       "  <thead>\n",
       "    <tr style=\"text-align: right;\">\n",
       "      <th></th>\n",
       "      <th>user_id</th>\n",
       "      <th>version</th>\n",
       "      <th>sum_gamerounds</th>\n",
       "      <th>retention_1</th>\n",
       "      <th>retention_7</th>\n",
       "    </tr>\n",
       "  </thead>\n",
       "  <tbody>\n",
       "    <tr>\n",
       "      <th>0</th>\n",
       "      <td>116</td>\n",
       "      <td>gate_30</td>\n",
       "      <td>3</td>\n",
       "      <td>0</td>\n",
       "      <td>0</td>\n",
       "    </tr>\n",
       "    <tr>\n",
       "      <th>1</th>\n",
       "      <td>337</td>\n",
       "      <td>gate_30</td>\n",
       "      <td>38</td>\n",
       "      <td>1</td>\n",
       "      <td>0</td>\n",
       "    </tr>\n",
       "    <tr>\n",
       "      <th>2</th>\n",
       "      <td>377</td>\n",
       "      <td>gate_40</td>\n",
       "      <td>165</td>\n",
       "      <td>1</td>\n",
       "      <td>0</td>\n",
       "    </tr>\n",
       "    <tr>\n",
       "      <th>3</th>\n",
       "      <td>483</td>\n",
       "      <td>gate_40</td>\n",
       "      <td>1</td>\n",
       "      <td>0</td>\n",
       "      <td>0</td>\n",
       "    </tr>\n",
       "    <tr>\n",
       "      <th>4</th>\n",
       "      <td>488</td>\n",
       "      <td>gate_40</td>\n",
       "      <td>179</td>\n",
       "      <td>1</td>\n",
       "      <td>1</td>\n",
       "    </tr>\n",
       "  </tbody>\n",
       "</table>\n",
       "</div>"
      ],
      "text/plain": [
       "   user_id  version  sum_gamerounds  retention_1  retention_7\n",
       "0      116  gate_30               3            0            0\n",
       "1      337  gate_30              38            1            0\n",
       "2      377  gate_40             165            1            0\n",
       "3      483  gate_40               1            0            0\n",
       "4      488  gate_40             179            1            1"
      ]
     },
     "execution_count": 118,
     "metadata": {},
     "output_type": "execute_result"
    }
   ],
   "source": [
    "data = start_data.rename(columns={'userid':'user_id'})\n",
    "data.head()"
   ]
  },
  {
   "cell_type": "code",
   "execution_count": 119,
   "id": "a4d7fcf2",
   "metadata": {},
   "outputs": [
    {
     "data": {
      "text/plain": [
       "user_id\n",
       "116        1\n",
       "488        1\n",
       "540        1\n",
       "1066       1\n",
       "1444       1\n",
       "          ..\n",
       "9994217    1\n",
       "9997049    1\n",
       "9996999    1\n",
       "9974108    1\n",
       "9999861    1\n",
       "Name: count, Length: 90189, dtype: int64"
      ]
     },
     "execution_count": 119,
     "metadata": {},
     "output_type": "execute_result"
    }
   ],
   "source": [
    "data.user_id.value_counts().sort_values()\n",
    "# проверка уникальности ID клиента"
   ]
  },
  {
   "cell_type": "code",
   "execution_count": 120,
   "id": "9f12bf78",
   "metadata": {},
   "outputs": [
    {
     "data": {
      "text/plain": [
       "(3994, 5)"
      ]
     },
     "execution_count": 120,
     "metadata": {},
     "output_type": "execute_result"
    }
   ],
   "source": [
    "null_round = data[data['sum_gamerounds'] == 0].shape\n",
    "null_round\n",
    "# количество не игравших пользователей"
   ]
  },
  {
   "cell_type": "markdown",
   "id": "31e77512",
   "metadata": {},
   "source": [
    "Есть пользователи которые не играли."
   ]
  },
  {
   "cell_type": "code",
   "execution_count": 121,
   "id": "e28adbe9",
   "metadata": {},
   "outputs": [
    {
     "data": {
      "text/plain": [
       "(86195, 5)"
      ]
     },
     "execution_count": 121,
     "metadata": {},
     "output_type": "execute_result"
    }
   ],
   "source": [
    "data = data[data['sum_gamerounds'] > 0]\n",
    "data.shape\n",
    "# исключаем пользователе которые не играли"
   ]
  },
  {
   "cell_type": "code",
   "execution_count": 123,
   "id": "c83f3fa5",
   "metadata": {},
   "outputs": [
    {
     "data": {
      "text/plain": [
       "(90189, 5)"
      ]
     },
     "execution_count": 123,
     "metadata": {},
     "output_type": "execute_result"
    }
   ],
   "source": [
    "start_data['version'].value_counts()\n",
    "start_data.shape\n",
    "# проверяем со стартовым количеством"
   ]
  },
  {
   "cell_type": "code",
   "execution_count": 125,
   "id": "758e5be4",
   "metadata": {},
   "outputs": [],
   "source": [
    "g30 = data['sum_gamerounds'][data['version'] == 'gate_30']\n",
    "g40 = data['sum_gamerounds'][data['version'] == 'gate_40']"
   ]
  },
  {
   "cell_type": "code",
   "execution_count": 140,
   "id": "d78929f2",
   "metadata": {},
   "outputs": [
    {
     "data": {
      "image/png": "[encoded data removed]",
      "text/plain": [
       "<Figure size 1000x300 with 1 Axes>"
      ]
     },
     "metadata": {},
     "output_type": "display_data"
    }
   ],
   "source": [
    "# строим графики по выборкам по пользователям которые играли\n",
    "\n",
    "plt.figure(figsize=(10,3))\n",
    "plt.hist(g30, color='r', bins=10)\n",
    "plt.hist(g40, color='g', bins=10)\n",
    "\n",
    "\n",
    "plt.title('Sum_gamerounds')\n",
    "plt.xlabel('Sum of rounds')\n",
    "plt.ylabel('Amount')\n",
    "plt.legend(['gate 30', 'gate 40'])\n",
    "\n",
    "plt.show()"
   ]
  },
  {
   "cell_type": "code",
   "execution_count": 127,
   "id": "d2de68e3",
   "metadata": {},
   "outputs": [
    {
     "data": {
      "image/png": "[encoded data removed]",
      "text/plain": [
       "<Figure size 1000x300 with 1 Axes>"
      ]
     },
     "metadata": {},
     "output_type": "display_data"
    }
   ],
   "source": [
    "plt.figure(figsize=(10,3))\n",
    "sns.boxplot(x = data['sum_gamerounds'], y = data['version'], whis=3)\n",
    "plt. title('Sum of gamerounds')\n",
    "plt.xlabel('Sum_gamerounds')\n",
    "plt.ylabel('Version');"
   ]
  },
  {
   "cell_type": "markdown",
   "id": "76d79199",
   "metadata": {},
   "source": [
    "#### Есть значительные выбросы. Исключаем."
   ]
  },
  {
   "cell_type": "code",
   "execution_count": 128,
   "id": "f0a724ed",
   "metadata": {},
   "outputs": [],
   "source": [
    "def q1 (x):\n",
    "    return x.quantile(0.25)\n",
    "\n",
    "def q3 (x):\n",
    "    return x.quantile(0.75)"
   ]
  },
  {
   "cell_type": "code",
   "execution_count": 129,
   "id": "8576ca05",
   "metadata": {},
   "outputs": [
    {
     "data": {
      "text/plain": [
       "(6.0, 53.0, 47.0)"
      ]
     },
     "execution_count": 129,
     "metadata": {},
     "output_type": "execute_result"
    }
   ],
   "source": [
    "q1_30 = g30.agg(q1)\n",
    "q3_30 = g30.agg(q3)\n",
    "iqr_30 = q3_30 - q1_30\n",
    "q1_30,q3_30, iqr_30"
   ]
  },
  {
   "cell_type": "code",
   "execution_count": 130,
   "id": "f38bb591",
   "metadata": {},
   "outputs": [
    {
     "data": {
      "text/plain": [
       "(6.0, 55.0, 49.0)"
      ]
     },
     "execution_count": 130,
     "metadata": {},
     "output_type": "execute_result"
    }
   ],
   "source": [
    "q1_40 = g40.agg(q1)\n",
    "q3_40 = g40.agg(q3)\n",
    "iqr_40 = q3_40 - q1_30\n",
    "q1_40,q3_40, iqr_40"
   ]
  },
  {
   "cell_type": "code",
   "execution_count": 131,
   "id": "df59bfcf",
   "metadata": {},
   "outputs": [
    {
     "data": {
      "text/plain": [
       "([-135.0, 194.0], [-141.0, 202.0])"
      ]
     },
     "execution_count": 131,
     "metadata": {},
     "output_type": "execute_result"
    }
   ],
   "source": [
    "major_outlier_30 = [q1_30 - 3 * iqr_30, q3_30 + 3 * iqr_30]\n",
    "major_outlier_40 = [q1_40 - 3 * iqr_40, q3_40 + 3 * iqr_40]\n",
    "\n",
    "major_outlier_30,  major_outlier_40"
   ]
  },
  {
   "cell_type": "code",
   "execution_count": 133,
   "id": "49647e54",
   "metadata": {},
   "outputs": [
    {
     "data": {
      "text/plain": [
       "(80890, 5)"
      ]
     },
     "execution_count": 133,
     "metadata": {},
     "output_type": "execute_result"
    }
   ],
   "source": [
    "data_new_30 = data[(data['version'] == \"gate_30\") & (data['sum_gamerounds'] >= major_outlier_30[0]) & (data['sum_gamerounds'] <= major_outlier_30[1])] \n",
    "data_new_40 = data[(data['version'] == \"gate_40\") & (data['sum_gamerounds'] >= major_outlier_40[0]) & (data['sum_gamerounds'] <= major_outlier_40[1])]\n",
    "data_new = pd.concat([data_new_30, data_new_40])\n",
    "data_new.shape"
   ]
  },
  {
   "cell_type": "code",
   "execution_count": 141,
   "id": "8a76a913",
   "metadata": {},
   "outputs": [],
   "source": [
    "# строим графики по выборкам, очищенным от значительных выбросов\n",
    "\n",
    "g30_new = data_new['sum_gamerounds'][data_new['version'] == 'gate_30']\n",
    "g40_new = data_new['sum_gamerounds'][data_new['version'] == 'gate_40']"
   ]
  },
  {
   "cell_type": "code",
   "execution_count": 142,
   "id": "98c63d4c",
   "metadata": {},
   "outputs": [
    {
     "data": {
      "image/png": "[encoded data removed]",
      "text/plain": [
       "<Figure size 1000x300 with 1 Axes>"
      ]
     },
     "metadata": {},
     "output_type": "display_data"
    }
   ],
   "source": [
    "plt.figure(figsize=(10,3))\n",
    "\n",
    "plt.hist(g40_new, color='g', bins=10)\n",
    "plt.hist(g30_new, color='r', bins=10)\n",
    "\n",
    "plt.title('Sum_gamerounds')\n",
    "plt.xlabel('Sum of rounds')\n",
    "plt.ylabel('Amount')\n",
    "plt.legend(['gate 40', 'gate 30'])\n",
    "\n",
    "plt.show()"
   ]
  },
  {
   "cell_type": "code",
   "execution_count": 143,
   "id": "0d464373",
   "metadata": {},
   "outputs": [
    {
     "data": {
      "image/png": "[encoded data removed]",
      "text/plain": [
       "<Figure size 1000x300 with 1 Axes>"
      ]
     },
     "metadata": {},
     "output_type": "display_data"
    }
   ],
   "source": [
    "plt.figure(figsize=(10,3))\n",
    "sns.boxplot(x = data_new['sum_gamerounds'], y = data_new['version'], whis=3)\n",
    "plt. title('Sum of gamerounds')\n",
    "plt.xlabel('Sum_gamerounds')\n",
    "plt.ylabel('Version');"
   ]
  },
  {
   "cell_type": "markdown",
   "id": "95ae391f",
   "metadata": {},
   "source": [
    "#### Тест Колмогорова-Смирнова - проверка на нормальность.\n",
    "H0 - из генеральной совокупности с нормальным распределением.  \n",
    "H1 - из ген.совокупности с другим распределением.  \n",
    "\n",
    "При p-value > alpha: анализируемое распределение не отличается от нормального."
   ]
  },
  {
   "cell_type": "code",
   "execution_count": 144,
   "id": "99b609ca",
   "metadata": {},
   "outputs": [
    {
     "name": "stdout",
     "output_type": "stream",
     "text": [
      "KstestResult(statistic=0.9085832346901782, pvalue=0.0, statistic_location=2, statistic_sign=-1)\n",
      "KstestResult(statistic=0.9089857208029467, pvalue=0.0, statistic_location=2, statistic_sign=-1)\n"
     ]
    }
   ],
   "source": [
    "print(stats.kstest(g30_new, 'norm'))\n",
    "print(stats.kstest(g40_new, 'norm'))"
   ]
  },
  {
   "cell_type": "markdown",
   "id": "4573f177",
   "metadata": {},
   "source": [
    "Тип данных - количественные (количество раундов)    \n",
    "Распределение - не нормальное (pValue = 0.0)  \n",
    "Выборки независимые  \n",
    "Количество групп - 2  \n",
    "\n",
    "#### => критерий Манна-Уитни"
   ]
  },
  {
   "cell_type": "code",
   "execution_count": 145,
   "id": "79d1effd",
   "metadata": {},
   "outputs": [
    {
     "data": {
      "text/plain": [
       "MannwhitneyuResult(statistic=819569282.5, pvalue=0.5970090532170633)"
      ]
     },
     "execution_count": 145,
     "metadata": {},
     "output_type": "execute_result"
    }
   ],
   "source": [
    "mw = stats.mannwhitneyu(x=g30_new,y=g40_new)\n",
    "mw"
   ]
  },
  {
   "cell_type": "markdown",
   "id": "d38de233",
   "metadata": {},
   "source": [
    "### Вывод:  \n",
    "играют пользователи примерно столько же (статистически значимого изменения количества раундов нет)"
   ]
  },
  {
   "cell_type": "markdown",
   "id": "1dd7e553",
   "metadata": {},
   "source": [
    "### Проанализируем возврат игроков в игру по периодам"
   ]
  },
  {
   "cell_type": "code",
   "execution_count": 146,
   "id": "d7e5487d",
   "metadata": {},
   "outputs": [
    {
     "data": {
      "text/plain": [
       "version\n",
       "gate_40    40856\n",
       "gate_30    40034\n",
       "Name: count, dtype: int64"
      ]
     },
     "execution_count": 146,
     "metadata": {},
     "output_type": "execute_result"
    }
   ],
   "source": [
    "all = data_new.version.value_counts()\n",
    "all"
   ]
  },
  {
   "cell_type": "markdown",
   "id": "60032cf9",
   "metadata": {},
   "source": [
    "Тип данных - качественные (%) \n",
    "Выборки независимые  \n",
    "Количество групп - 2  \n",
    "\n",
    "#### => Хи квадрат Пирсона или Z критерий\n",
    "\n",
    "Нулевая гипотеза - статитически значимой разницы между выборками нет"
   ]
  },
  {
   "cell_type": "code",
   "execution_count": 147,
   "id": "8e532ab2",
   "metadata": {},
   "outputs": [],
   "source": [
    "from statsmodels.stats import proportion\n",
    "import numpy as np"
   ]
  },
  {
   "cell_type": "markdown",
   "id": "2c0fa8ad",
   "metadata": {},
   "source": [
    "- возврат через 1 день"
   ]
  },
  {
   "cell_type": "code",
   "execution_count": 148,
   "id": "0c4287f9",
   "metadata": {},
   "outputs": [
    {
     "name": "stdout",
     "output_type": "stream",
     "text": [
      "В рамках теста Хи квадрат pValue = 0.3762274672480904, в рамках Z теста = 0.3762274672480924\n"
     ]
    },
    {
     "data": {
      "text/plain": [
       "version\n",
       "gate_40    17668\n",
       "gate_30    17436\n",
       "Name: count, dtype: int64"
      ]
     },
     "execution_count": 148,
     "metadata": {},
     "output_type": "execute_result"
    }
   ],
   "source": [
    "conv = data_new.query('retention_1 == 1').version.value_counts()\n",
    "chi = proportion.proportions_chisquare(conv, all)\n",
    "z = proportion.proportions_ztest(conv, all)\n",
    "print(f'В рамках теста Хи квадрат pValue = {chi[1]}, в рамках Z теста = {z[1]}')\n",
    "conv"
   ]
  },
  {
   "cell_type": "markdown",
   "id": "2ccce4cf",
   "metadata": {},
   "source": [
    "В рамках обоих тестов статистически значимой разницы между выборками нет.  \n",
    "То есть увеличение не повлияло на возврат игроков в игру на следующий день."
   ]
  },
  {
   "cell_type": "markdown",
   "id": "fb4b1697",
   "metadata": {},
   "source": [
    "- возврат через 7 дней"
   ]
  },
  {
   "cell_type": "code",
   "execution_count": 149,
   "id": "6a62c4e7",
   "metadata": {},
   "outputs": [
    {
     "name": "stdout",
     "output_type": "stream",
     "text": [
      "В рамках теста Хи квадрат pValue = 0.917942372509984, в рамках Z теста = 0.9179423725099872\n"
     ]
    },
    {
     "data": {
      "text/plain": [
       "version\n",
       "gate_30    6183\n",
       "gate_40    6069\n",
       "Name: count, dtype: int64"
      ]
     },
     "execution_count": 149,
     "metadata": {},
     "output_type": "execute_result"
    }
   ],
   "source": [
    "conv = data_new.query('retention_7 == 1').version.value_counts()\n",
    "chi = proportion.proportions_chisquare(conv, all)\n",
    "z = proportion.proportions_ztest(conv, all)\n",
    "print(f'В рамках теста Хи квадрат pValue = {chi[1]}, в рамках Z теста = {z[1]}')\n",
    "conv"
   ]
  },
  {
   "cell_type": "markdown",
   "id": "e3abb238",
   "metadata": {},
   "source": [
    "В рамках обоих тестов статистически значимой разницы между выборками нет.  \n",
    "То есть увеличение не повлияло на возврат игроков в игру через 7 дней."
   ]
  },
  {
   "cell_type": "markdown",
   "id": "78154a8c",
   "metadata": {},
   "source": [
    "- игрок вернулся в оба периода"
   ]
  },
  {
   "cell_type": "code",
   "execution_count": 150,
   "id": "732181d7",
   "metadata": {},
   "outputs": [
    {
     "name": "stdout",
     "output_type": "stream",
     "text": [
      "В рамках теста Хи квадрат pValue = 0.8493177703491945, в рамках Z теста = 0.8493177703491868\n"
     ]
    },
    {
     "data": {
      "text/plain": [
       "version\n",
       "gate_30    4512\n",
       "gate_40    4438\n",
       "Name: count, dtype: int64"
      ]
     },
     "execution_count": 150,
     "metadata": {},
     "output_type": "execute_result"
    }
   ],
   "source": [
    "conv = data_new.query('retention_1 == 1').query('retention_7 == 1').version.value_counts()\n",
    "chi = proportion.proportions_chisquare(conv, all)\n",
    "z = proportion.proportions_ztest(conv, all)\n",
    "print(f'В рамках теста Хи квадрат pValue = {chi[1]}, в рамках Z теста = {z[1]}')\n",
    "conv"
   ]
  },
  {
   "cell_type": "markdown",
   "id": "49b5f51c",
   "metadata": {},
   "source": [
    "В рамках обоих тестов статистически значимой разницы между выборками нет.  \n",
    "То есть увеличение не повлияло на возврат игроков в игру через 1 и 7 дней одновременно"
   ]
  },
  {
   "cell_type": "markdown",
   "id": "259838be",
   "metadata": {},
   "source": [
    "- игрок не вернулся ни через 1 день, ни через 7"
   ]
  },
  {
   "cell_type": "code",
   "execution_count": 151,
   "id": "0f24d1fd",
   "metadata": {},
   "outputs": [
    {
     "name": "stdout",
     "output_type": "stream",
     "text": [
      "В рамках теста Хи квадрат pValue = 0.16266548966694483, в рамках Z теста = 0.16266548966694594\n"
     ]
    },
    {
     "data": {
      "text/plain": [
       "version\n",
       "gate_40    21557\n",
       "gate_30    20927\n",
       "Name: count, dtype: int64"
      ]
     },
     "execution_count": 151,
     "metadata": {},
     "output_type": "execute_result"
    }
   ],
   "source": [
    "conv = data_new.query('retention_1 == 0').query('retention_7 == 0').version.value_counts()\n",
    "chi = proportion.proportions_chisquare(conv, all)\n",
    "z = proportion.proportions_ztest(conv, all)\n",
    "print(f'В рамках теста Хи квадрат pValue = {chi[1]}, в рамках Z теста = {z[1]}')\n",
    "conv"
   ]
  },
  {
   "cell_type": "markdown",
   "id": "0ee8b09c",
   "metadata": {},
   "source": [
    "В рамках обоих тестов статистически значимой разницы между выборками нет.  \n",
    "То есть увеличение не повлияло на уход игроков из игры"
   ]
  },
  {
   "cell_type": "markdown",
   "id": "1ba46cb9",
   "metadata": {},
   "source": [
    "## ИТОГОВЫЙ ВЫВОД\n",
    "\n",
    "изменения уровня checkpoint с 30 на 40 не оказывает существенного влияния на поведение пользователей и сроки возврата в игру.\n",
    "\n",
    "Варианты:\n",
    "    \n",
    "    а) не выкатывать изменения - нет смысла\n",
    "    б) можно выкатывать изменения в случае необходимости, к примеру если данные изменения предусмотрены неким планом изменений\n",
    "   \n"
   ]
  }
 ],
 "metadata": {
  "kernelspec": {
   "display_name": "Python 3 (ipykernel)",
   "language": "python",
   "name": "python3"
  },
  "language_info": {
   "codemirror_mode": {
    "name": "ipython",
    "version": 3
   },
   "file_extension": ".py",
   "mimetype": "text/x-python",
   "name": "python",
   "nbconvert_exporter": "python",
   "pygments_lexer": "ipython3",
   "version": "3.11.2"
  }
 },
 "nbformat": 4,
 "nbformat_minor": 5
}
